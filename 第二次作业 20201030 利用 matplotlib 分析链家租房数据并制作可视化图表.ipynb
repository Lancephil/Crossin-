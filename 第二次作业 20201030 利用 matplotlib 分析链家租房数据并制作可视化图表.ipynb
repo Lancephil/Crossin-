{
 "cells": [
  {
   "cell_type": "markdown",
   "metadata": {},
   "source": [
    "# 利用 matplotlib 分析链家租房数据并制作可视化图表"
   ]
  },
  {
   "cell_type": "code",
   "execution_count": 1,
   "metadata": {},
   "outputs": [],
   "source": [
    "# 导入一些必要的库\n",
    "import pandas as pd "
   ]
  },
  {
   "cell_type": "markdown",
   "metadata": {},
   "source": [
    "#### TODO1:\n",
    "读取 CSV 格式文件“task_2_lianjia_data.csv”，将数据命名为 lianjia_data，并选取前部数据查看(阅读 参考文章 1、2)"
   ]
  },
  {
   "cell_type": "code",
   "execution_count": 2,
   "metadata": {},
   "outputs": [
    {
     "data": {
      "text/html": [
       "<div>\n",
       "<style scoped>\n",
       "    .dataframe tbody tr th:only-of-type {\n",
       "        vertical-align: middle;\n",
       "    }\n",
       "\n",
       "    .dataframe tbody tr th {\n",
       "        vertical-align: top;\n",
       "    }\n",
       "\n",
       "    .dataframe thead th {\n",
       "        text-align: right;\n",
       "    }\n",
       "</style>\n",
       "<table border=\"1\" class=\"dataframe\">\n",
       "  <thead>\n",
       "    <tr style=\"text-align: right;\">\n",
       "      <th></th>\n",
       "      <th>简介（方式·小区名 户型 朝向）</th>\n",
       "      <th>区</th>\n",
       "      <th>地铁站</th>\n",
       "      <th>村</th>\n",
       "      <th>面积大小（㎡）</th>\n",
       "      <th>朝向</th>\n",
       "      <th>户型</th>\n",
       "      <th>楼层类型</th>\n",
       "      <th>楼层（层）</th>\n",
       "      <th>标签</th>\n",
       "    </tr>\n",
       "  </thead>\n",
       "  <tbody>\n",
       "    <tr>\n",
       "      <th>0</th>\n",
       "      <td>整租·长桥一村 1室0厅 南</td>\n",
       "      <td>徐汇</td>\n",
       "      <td>长桥</td>\n",
       "      <td>长桥一村</td>\n",
       "      <td>39</td>\n",
       "      <td>南</td>\n",
       "      <td>1室0厅1卫</td>\n",
       "      <td>高楼层</td>\n",
       "      <td>6</td>\n",
       "      <td>随时看房</td>\n",
       "    </tr>\n",
       "    <tr>\n",
       "      <th>1</th>\n",
       "      <td>整租·馨宁公寓 1室1厅 南</td>\n",
       "      <td>徐汇</td>\n",
       "      <td>华泾</td>\n",
       "      <td>馨宁公寓</td>\n",
       "      <td>42</td>\n",
       "      <td>南</td>\n",
       "      <td>1室1厅1卫</td>\n",
       "      <td>高楼层</td>\n",
       "      <td>29</td>\n",
       "      <td>精装,随时看房</td>\n",
       "    </tr>\n",
       "    <tr>\n",
       "      <th>2</th>\n",
       "      <td>整租·长桥三村 2室1厅 南</td>\n",
       "      <td>徐汇</td>\n",
       "      <td>长桥</td>\n",
       "      <td>长桥三村</td>\n",
       "      <td>51</td>\n",
       "      <td>南</td>\n",
       "      <td>2室1厅1卫</td>\n",
       "      <td>高楼层</td>\n",
       "      <td>6</td>\n",
       "      <td>随时看房</td>\n",
       "    </tr>\n",
       "    <tr>\n",
       "      <th>3</th>\n",
       "      <td>整租·东湾小区 1室1厅 南</td>\n",
       "      <td>徐汇</td>\n",
       "      <td>华泾</td>\n",
       "      <td>东湾小区</td>\n",
       "      <td>47</td>\n",
       "      <td>南</td>\n",
       "      <td>1室1厅1卫</td>\n",
       "      <td>中楼层</td>\n",
       "      <td>6</td>\n",
       "      <td>随时看房</td>\n",
       "    </tr>\n",
       "    <tr>\n",
       "      <th>4</th>\n",
       "      <td>整租·花苑村紫竹园 1室1厅 南</td>\n",
       "      <td>徐汇</td>\n",
       "      <td>康健</td>\n",
       "      <td>花苑村紫竹园</td>\n",
       "      <td>42</td>\n",
       "      <td>南</td>\n",
       "      <td>1室1厅1卫</td>\n",
       "      <td>高楼层</td>\n",
       "      <td>6</td>\n",
       "      <td>随时看房</td>\n",
       "    </tr>\n",
       "  </tbody>\n",
       "</table>\n",
       "</div>"
      ],
      "text/plain": [
       "   简介（方式·小区名 户型 朝向）   区 地铁站       村  面积大小（㎡） 朝向      户型  \\\n",
       "0    整租·长桥一村 1室0厅 南  徐汇  长桥    长桥一村       39  南  1室0厅1卫   \n",
       "1    整租·馨宁公寓 1室1厅 南  徐汇  华泾    馨宁公寓       42  南  1室1厅1卫   \n",
       "2    整租·长桥三村 2室1厅 南  徐汇  长桥    长桥三村       51  南  2室1厅1卫   \n",
       "3    整租·东湾小区 1室1厅 南  徐汇  华泾    东湾小区       47  南  1室1厅1卫   \n",
       "4  整租·花苑村紫竹园 1室1厅 南  徐汇  康健  花苑村紫竹园       42  南  1室1厅1卫   \n",
       "\n",
       "                          楼层类型  楼层（层）       标签  \n",
       "0  高楼层                              6     随时看房  \n",
       "1  高楼层                             29  精装,随时看房  \n",
       "2  高楼层                              6     随时看房  \n",
       "3  中楼层                              6     随时看房  \n",
       "4  高楼层                              6     随时看房  "
      ]
     },
     "execution_count": 2,
     "metadata": {},
     "output_type": "execute_result"
    }
   ],
   "source": [
    "lianjia_data = pd.read_csv(\"task_2_lianjia_data.csv\")\n",
    "lianjia_data.head()"
   ]
  },
  {
   "cell_type": "markdown",
   "metadata": {},
   "source": [
    "#### TODO2: \n",
    "利用 groupby 函数，以【面积大小(m²)】字段进行 groupby，统计各个面积下的【房源数量】情况(阅读参考 文章 3、4)"
   ]
  },
  {
   "cell_type": "code",
   "execution_count": 3,
   "metadata": {},
   "outputs": [
    {
     "data": {
      "text/html": [
       "<div>\n",
       "<style scoped>\n",
       "    .dataframe tbody tr th:only-of-type {\n",
       "        vertical-align: middle;\n",
       "    }\n",
       "\n",
       "    .dataframe tbody tr th {\n",
       "        vertical-align: top;\n",
       "    }\n",
       "\n",
       "    .dataframe thead th {\n",
       "        text-align: right;\n",
       "    }\n",
       "</style>\n",
       "<table border=\"1\" class=\"dataframe\">\n",
       "  <thead>\n",
       "    <tr style=\"text-align: right;\">\n",
       "      <th></th>\n",
       "      <th>房源数量</th>\n",
       "    </tr>\n",
       "    <tr>\n",
       "      <th>面积大小（㎡）</th>\n",
       "      <th></th>\n",
       "    </tr>\n",
       "  </thead>\n",
       "  <tbody>\n",
       "    <tr>\n",
       "      <th>7</th>\n",
       "      <td>1</td>\n",
       "    </tr>\n",
       "    <tr>\n",
       "      <th>9</th>\n",
       "      <td>3</td>\n",
       "    </tr>\n",
       "    <tr>\n",
       "      <th>10</th>\n",
       "      <td>1</td>\n",
       "    </tr>\n",
       "    <tr>\n",
       "      <th>11</th>\n",
       "      <td>1</td>\n",
       "    </tr>\n",
       "    <tr>\n",
       "      <th>12</th>\n",
       "      <td>1</td>\n",
       "    </tr>\n",
       "    <tr>\n",
       "      <th>13</th>\n",
       "      <td>1</td>\n",
       "    </tr>\n",
       "    <tr>\n",
       "      <th>14</th>\n",
       "      <td>2</td>\n",
       "    </tr>\n",
       "    <tr>\n",
       "      <th>15</th>\n",
       "      <td>5</td>\n",
       "    </tr>\n",
       "    <tr>\n",
       "      <th>16</th>\n",
       "      <td>4</td>\n",
       "    </tr>\n",
       "    <tr>\n",
       "      <th>17</th>\n",
       "      <td>1</td>\n",
       "    </tr>\n",
       "  </tbody>\n",
       "</table>\n",
       "</div>"
      ],
      "text/plain": [
       "         房源数量\n",
       "面积大小（㎡）      \n",
       "7           1\n",
       "9           3\n",
       "10          1\n",
       "11          1\n",
       "12          1\n",
       "13          1\n",
       "14          2\n",
       "15          5\n",
       "16          4\n",
       "17          1"
      ]
     },
     "execution_count": 3,
     "metadata": {},
     "output_type": "execute_result"
    }
   ],
   "source": [
    "lianjia_squre = lianjia_data.groupby('面积大小（㎡）')['面积大小（㎡）'].agg('count')\n",
    "lianjia_squre = lianjia_squre.to_frame()\n",
    "lianjia_squre.columns = ['房源数量']\n",
    "lianjia_squre.head(10)"
   ]
  },
  {
   "cell_type": "markdown",
   "metadata": {},
   "source": [
    "#### TODO3\n",
    "  将第(2)问所统计数据，作折线图和条形图，并得出相关结论(阅读参考文章 5、6)，提示:先提取第(2)问 所得数据表的 index 索引，\n",
    "饼转化成 list;再提取【房源数量】的值转成 list(阅读参考文章 7、8)"
   ]
  },
  {
   "cell_type": "code",
   "execution_count": 4,
   "metadata": {},
   "outputs": [],
   "source": [
    "import matplotlib.pyplot as plt"
   ]
  },
  {
   "cell_type": "code",
   "execution_count": 132,
   "metadata": {},
   "outputs": [
    {
     "data": {
      "image/png": "[encoded data removed]",
      "text/plain": [
       "<Figure size 720x360 with 1 Axes>"
      ]
     },
     "metadata": {
      "needs_background": "light"
     },
     "output_type": "display_data"
    }
   ],
   "source": [
    "# 制作折线图\n",
    "x = lianjia_squre.index.values.tolist()\n",
    "y = lianjia_squre['房源数量'].values.tolist()\n",
    "# 配置中文环境\n",
    "plt.rcParams['font.sans-serif']=['SimHei']\n",
    "plt.rcParams['axes.unicode_minus']=False\n",
    "plt.rcParams['savefig.dpi'] = 900\n",
    "plt.figure(figsize = (10, 5)) \n",
    "\n",
    "plt.xlabel('面积大小', fontsize=15)\n",
    "plt.ylabel('房源数量',fontsize=15)\n",
    "plt.title('制作折线图',fontsize=20) \n",
    "plt.xticks(fontsize=15)\n",
    "plt.yticks(fontsize=15)\n",
    "\n",
    "\n",
    "plt.plot(x,y,color='c', marker='o', linestyle='dashed', linewidth=1, markersize=5)\n",
    "\n",
    "plt.show()"
   ]
  },
  {
   "cell_type": "code",
   "execution_count": 133,
   "metadata": {},
   "outputs": [
    {
     "data": {
      "image/png": "[encoded data removed]",
      "text/plain": [
       "<Figure size 720x360 with 1 Axes>"
      ]
     },
     "metadata": {
      "needs_background": "light"
     },
     "output_type": "display_data"
    }
   ],
   "source": [
    "# 制作条形图\n",
    "x = lianjia_squre.index.values.tolist()\n",
    "y = lianjia_squre['房源数量'].values.tolist()\n",
    "plt.rcParams['savefig.dpi'] =900\n",
    "plt.figure(figsize = (10, 5)) \n",
    "plt.xticks(fontsize=15)\n",
    "plt.yticks(fontsize=15)\n",
    "\n",
    "\n",
    "plt.xlabel('面积大小', fontsize=15)\n",
    "plt.ylabel('房源数量', fontsize=15)\n",
    "plt.title('制作条形图', fontsize=20) \n",
    "plt.bar(x,y,color='c')\n",
    "\n",
    "plt.show()"
   ]
  },
  {
   "cell_type": "markdown",
   "metadata": {},
   "source": [
    "#### TODO4: \n",
    "利用 groupby 函数，以【区】字段进行 groupby，统计各个上海各个“区”所属的【房源数量】情况"
   ]
  },
  {
   "cell_type": "code",
   "execution_count": 8,
   "metadata": {},
   "outputs": [
    {
     "data": {
      "text/html": [
       "<div>\n",
       "<style scoped>\n",
       "    .dataframe tbody tr th:only-of-type {\n",
       "        vertical-align: middle;\n",
       "    }\n",
       "\n",
       "    .dataframe tbody tr th {\n",
       "        vertical-align: top;\n",
       "    }\n",
       "\n",
       "    .dataframe thead th {\n",
       "        text-align: right;\n",
       "    }\n",
       "</style>\n",
       "<table border=\"1\" class=\"dataframe\">\n",
       "  <thead>\n",
       "    <tr style=\"text-align: right;\">\n",
       "      <th></th>\n",
       "      <th>房源数量</th>\n",
       "    </tr>\n",
       "    <tr>\n",
       "      <th>区</th>\n",
       "      <th></th>\n",
       "    </tr>\n",
       "  </thead>\n",
       "  <tbody>\n",
       "    <tr>\n",
       "      <th>嘉定</th>\n",
       "      <td>6</td>\n",
       "    </tr>\n",
       "    <tr>\n",
       "      <th>奉贤</th>\n",
       "      <td>1</td>\n",
       "    </tr>\n",
       "    <tr>\n",
       "      <th>徐汇</th>\n",
       "      <td>126</td>\n",
       "    </tr>\n",
       "    <tr>\n",
       "      <th>普陀</th>\n",
       "      <td>22</td>\n",
       "    </tr>\n",
       "    <tr>\n",
       "      <th>杨浦</th>\n",
       "      <td>56</td>\n",
       "    </tr>\n",
       "    <tr>\n",
       "      <th>松江</th>\n",
       "      <td>45</td>\n",
       "    </tr>\n",
       "    <tr>\n",
       "      <th>浦东</th>\n",
       "      <td>106</td>\n",
       "    </tr>\n",
       "    <tr>\n",
       "      <th>虹口</th>\n",
       "      <td>24</td>\n",
       "    </tr>\n",
       "    <tr>\n",
       "      <th>长宁</th>\n",
       "      <td>86</td>\n",
       "    </tr>\n",
       "    <tr>\n",
       "      <th>闵行</th>\n",
       "      <td>86</td>\n",
       "    </tr>\n",
       "  </tbody>\n",
       "</table>\n",
       "</div>"
      ],
      "text/plain": [
       "    房源数量\n",
       "区       \n",
       "嘉定     6\n",
       "奉贤     1\n",
       "徐汇   126\n",
       "普陀    22\n",
       "杨浦    56\n",
       "松江    45\n",
       "浦东   106\n",
       "虹口    24\n",
       "长宁    86\n",
       "闵行    86"
      ]
     },
     "execution_count": 8,
     "metadata": {},
     "output_type": "execute_result"
    }
   ],
   "source": [
    "lianjia_district = lianjia_data.groupby('区')['区'].agg(\"count\")\n",
    "lianjia_district = lianjia_district.to_frame()\n",
    "lianjia_district.columns = ['房源数量']\n",
    "lianjia_district.head(10)"
   ]
  },
  {
   "cell_type": "markdown",
   "metadata": {},
   "source": [
    "#### TODO5:\n",
    "将第(4)问所统计数据，作条形图，并得出相关结论"
   ]
  },
  {
   "cell_type": "code",
   "execution_count": 134,
   "metadata": {},
   "outputs": [
    {
     "data": {
      "image/png": "[encoded data removed]",
      "text/plain": [
       "<Figure size 720x360 with 1 Axes>"
      ]
     },
     "metadata": {
      "needs_background": "light"
     },
     "output_type": "display_data"
    }
   ],
   "source": [
    "# 制作条形图\n",
    "x = lianjia_district.index.values.tolist()\n",
    "y = lianjia_district['房源数量'].values.tolist()\n",
    "\n",
    "\n",
    "plt.rcParams['savefig.dpi'] =900\n",
    "plt.figure(figsize = (10, 5)) \n",
    "\n",
    "plt.xticks(fontsize=15)\n",
    "plt.yticks(fontsize=15)\n",
    "\n",
    "plt.xlabel('区', fontsize=15)\n",
    "plt.ylabel('房源数量', fontsize=15)\n",
    "plt.title('制作条形图', fontsize=20) \n",
    "plt.bar(x,y,[0.5],color='c')\n",
    "\n",
    "plt.show()"
   ]
  },
  {
   "cell_type": "markdown",
   "metadata": {},
   "source": [
    "#### TODO6: 利用 groupby 函数，以【楼层类型】字段进行 groupby，统计各个楼层所属的【房源数量】情况"
   ]
  },
  {
   "cell_type": "code",
   "execution_count": 101,
   "metadata": {},
   "outputs": [
    {
     "data": {
      "text/html": [
       "<div>\n",
       "<style scoped>\n",
       "    .dataframe tbody tr th:only-of-type {\n",
       "        vertical-align: middle;\n",
       "    }\n",
       "\n",
       "    .dataframe tbody tr th {\n",
       "        vertical-align: top;\n",
       "    }\n",
       "\n",
       "    .dataframe thead th {\n",
       "        text-align: right;\n",
       "    }\n",
       "</style>\n",
       "<table border=\"1\" class=\"dataframe\">\n",
       "  <thead>\n",
       "    <tr style=\"text-align: right;\">\n",
       "      <th></th>\n",
       "      <th>房源数量</th>\n",
       "    </tr>\n",
       "    <tr>\n",
       "      <th>楼层类型</th>\n",
       "      <th></th>\n",
       "    </tr>\n",
       "  </thead>\n",
       "  <tbody>\n",
       "    <tr>\n",
       "      <th>中楼层</th>\n",
       "      <td>231</td>\n",
       "    </tr>\n",
       "    <tr>\n",
       "      <th>低楼层</th>\n",
       "      <td>146</td>\n",
       "    </tr>\n",
       "    <tr>\n",
       "      <th>地下室</th>\n",
       "      <td>5</td>\n",
       "    </tr>\n",
       "    <tr>\n",
       "      <th>高楼层</th>\n",
       "      <td>370</td>\n",
       "    </tr>\n",
       "  </tbody>\n",
       "</table>\n",
       "</div>"
      ],
      "text/plain": [
       "                             房源数量\n",
       "楼层类型                             \n",
       "中楼层                           231\n",
       "低楼层                           146\n",
       "地下室                             5\n",
       "高楼层                           370"
      ]
     },
     "execution_count": 101,
     "metadata": {},
     "output_type": "execute_result"
    }
   ],
   "source": [
    "lianjia_type = lianjia_data.groupby('楼层类型')['楼层类型'].agg(\"count\")\n",
    "lianjia_type = lianjia_type.to_frame()\n",
    "lianjia_type.columns = ['房源数量']\n",
    "lianjia_type.head(10)"
   ]
  },
  {
   "cell_type": "code",
   "execution_count": 138,
   "metadata": {},
   "outputs": [
    {
     "data": {
      "image/png": "[encoded data removed]",
      "text/plain": [
       "<Figure size 720x360 with 1 Axes>"
      ]
     },
     "metadata": {},
     "output_type": "display_data"
    }
   ],
   "source": [
    "# 制作条形图\n",
    "x_ = lianjia_type.index.tolist()\n",
    "y = lianjia_type['房源数量'].values.tolist()\n",
    "x =[x.strip() for x in x_] #去除原文件中的空格\n",
    "\n",
    "plt.rcParams['savefig.dpi'] =1000\n",
    "plt.figure(figsize = (10, 5)) \n",
    "plt.title(\"绘制饼图\", \n",
    "          fontsize=20\n",
    "         )\n",
    "plt.text(1.2,\n",
    "         -0.7,\n",
    "         'By:Lancephil', \n",
    "         fontsize=10\n",
    "        )\n",
    "\n",
    "plt.pie(y,\n",
    "        labels=x,\n",
    "        explode=[0,0.1,0.2,0.1],\n",
    "        colors=('r', 'c', 'y', 'g'),    \n",
    "        autopct='%1.1f%%',\n",
    "        pctdistance=0.7, \n",
    "        shadow=True,\n",
    "        labeldistance=1.1,\n",
    "        startangle=30, \n",
    "        radius=0.9,\n",
    "        counterclock=True, \n",
    "        wedgeprops=None,\n",
    "        textprops={'fontsize':15,'color':'black'},\n",
    "        center = (0.5, 0.5), \n",
    "        frame = False\n",
    "       )\n",
    "\n",
    "\n",
    "\n",
    "plt.show()"
   ]
  },
  {
   "cell_type": "code",
   "execution_count": null,
   "metadata": {},
   "outputs": [],
   "source": []
  }
 ],
 "metadata": {
  "kernelspec": {
   "display_name": "Python 3",
   "language": "python",
   "name": "python3"
  },
  "language_info": {
   "codemirror_mode": {
    "name": "ipython",
    "version": 3
   },
   "file_extension": ".py",
   "mimetype": "text/x-python",
   "name": "python",
   "nbconvert_exporter": "python",
   "pygments_lexer": "ipython3",
   "version": "3.8.3"
  }
 },
 "nbformat": 4,
 "nbformat_minor": 4
}
